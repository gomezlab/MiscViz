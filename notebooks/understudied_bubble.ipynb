{
 "cells": [
  {
   "cell_type": "markdown",
   "metadata": {},
   "source": [
    "## Understudied Bubble Chart Creator\n",
    "\n",
    "In order to create a potent visualization, we have to create JavaScript-intelligible objects. Here we do so with some help from Python's Pandas module and some list comprehensions.\n",
    "\n",
    "\n",
    "#### Instructions -- altering the JSON Inputs section will change what shows up in the final JSON"
   ]
  },
  {
   "cell_type": "code",
   "execution_count": 1,
   "metadata": {},
   "outputs": [],
   "source": [
    "# imports -- not all are used\n",
    "import numpy as np\n",
    "import pandas as pd\n",
    "import json\n",
    "import functools as ft\n",
    "from collections import Counter\n",
    "import itertools as it\n",
    "import matplotlib.pyplot as plt\n",
    "%matplotlib inline"
   ]
  },
  {
   "cell_type": "markdown",
   "metadata": {},
   "source": [
    "## Import the data\n",
    "\n",
    "We read the data from the /data/ directory."
   ]
  },
  {
   "cell_type": "code",
   "execution_count": 2,
   "metadata": {
    "scrolled": true
   },
   "outputs": [
    {
     "data": {
      "text/html": [
       "<div>\n",
       "<style scoped>\n",
       "    .dataframe tbody tr th:only-of-type {\n",
       "        vertical-align: middle;\n",
       "    }\n",
       "\n",
       "    .dataframe tbody tr th {\n",
       "        vertical-align: top;\n",
       "    }\n",
       "\n",
       "    .dataframe thead th {\n",
       "        text-align: right;\n",
       "    }\n",
       "</style>\n",
       "<table border=\"1\" class=\"dataframe\">\n",
       "  <thead>\n",
       "    <tr style=\"text-align: right;\">\n",
       "      <th></th>\n",
       "      <th>hgnc_id</th>\n",
       "      <th>symbol</th>\n",
       "      <th>ensembl_gene_id</th>\n",
       "      <th>class</th>\n",
       "      <th>name</th>\n",
       "      <th>uniprot_ids</th>\n",
       "      <th>kinase_com_name</th>\n",
       "    </tr>\n",
       "  </thead>\n",
       "  <tbody>\n",
       "    <tr>\n",
       "      <th>0</th>\n",
       "      <td>HGNC:19038</td>\n",
       "      <td>ADCK1</td>\n",
       "      <td>ENSG00000063761</td>\n",
       "      <td>Dark</td>\n",
       "      <td>aarF domain containing kinase 1</td>\n",
       "      <td>Q86TW2</td>\n",
       "      <td>ADCK1</td>\n",
       "    </tr>\n",
       "    <tr>\n",
       "      <th>1</th>\n",
       "      <td>HGNC:19039</td>\n",
       "      <td>ADCK2</td>\n",
       "      <td>ENSG00000133597</td>\n",
       "      <td>Dark</td>\n",
       "      <td>aarF domain containing kinase 2</td>\n",
       "      <td>Q7Z695</td>\n",
       "      <td>ADCK2</td>\n",
       "    </tr>\n",
       "    <tr>\n",
       "      <th>2</th>\n",
       "      <td>HGNC:21738</td>\n",
       "      <td>ADCK5</td>\n",
       "      <td>ENSG00000173137</td>\n",
       "      <td>Dark</td>\n",
       "      <td>aarF domain containing kinase 5</td>\n",
       "      <td>Q3MIX3</td>\n",
       "      <td>ADCK5</td>\n",
       "    </tr>\n",
       "    <tr>\n",
       "      <th>3</th>\n",
       "      <td>HGNC:20565</td>\n",
       "      <td>ALPK2</td>\n",
       "      <td>ENSG00000198796</td>\n",
       "      <td>Dark</td>\n",
       "      <td>alpha kinase 2</td>\n",
       "      <td>Q86TB3</td>\n",
       "      <td>AlphaK2</td>\n",
       "    </tr>\n",
       "    <tr>\n",
       "      <th>4</th>\n",
       "      <td>HGNC:17574</td>\n",
       "      <td>ALPK3</td>\n",
       "      <td>ENSG00000136383</td>\n",
       "      <td>Dark</td>\n",
       "      <td>alpha kinase 3</td>\n",
       "      <td>Q96L96</td>\n",
       "      <td>AlphaK1</td>\n",
       "    </tr>\n",
       "  </tbody>\n",
       "</table>\n",
       "</div>"
      ],
      "text/plain": [
       "      hgnc_id symbol  ensembl_gene_id class                             name  \\\n",
       "0  HGNC:19038  ADCK1  ENSG00000063761  Dark  aarF domain containing kinase 1   \n",
       "1  HGNC:19039  ADCK2  ENSG00000133597  Dark  aarF domain containing kinase 2   \n",
       "2  HGNC:21738  ADCK5  ENSG00000173137  Dark  aarF domain containing kinase 5   \n",
       "3  HGNC:20565  ALPK2  ENSG00000198796  Dark                   alpha kinase 2   \n",
       "4  HGNC:17574  ALPK3  ENSG00000136383  Dark                   alpha kinase 3   \n",
       "\n",
       "  uniprot_ids kinase_com_name  \n",
       "0      Q86TW2           ADCK1  \n",
       "1      Q7Z695           ADCK2  \n",
       "2      Q3MIX3           ADCK5  \n",
       "3      Q86TB3         AlphaK2  \n",
       "4      Q96L96         AlphaK1  "
      ]
     },
     "execution_count": 2,
     "metadata": {},
     "output_type": "execute_result"
    }
   ],
   "source": [
    "# read csv file into a DataFrame\n",
    "understudied = pd.read_csv('../data/dark_kinases.csv')\n",
    "understudied.head()"
   ]
  },
  {
   "cell_type": "code",
   "execution_count": 3,
   "metadata": {},
   "outputs": [
    {
     "data": {
      "text/html": [
       "<div>\n",
       "<style scoped>\n",
       "    .dataframe tbody tr th:only-of-type {\n",
       "        vertical-align: middle;\n",
       "    }\n",
       "\n",
       "    .dataframe tbody tr th {\n",
       "        vertical-align: top;\n",
       "    }\n",
       "\n",
       "    .dataframe thead th {\n",
       "        text-align: right;\n",
       "    }\n",
       "</style>\n",
       "<table border=\"1\" class=\"dataframe\">\n",
       "  <thead>\n",
       "    <tr style=\"text-align: right;\">\n",
       "      <th></th>\n",
       "      <th>gene_id</th>\n",
       "      <th>gene_symbol</th>\n",
       "      <th>name_nih</th>\n",
       "      <th>name</th>\n",
       "      <th>atp_binder</th>\n",
       "      <th>pharos_designation</th>\n",
       "      <th>pubmed_citation_2017</th>\n",
       "      <th>comment</th>\n",
       "      <th>tier</th>\n",
       "      <th>justification</th>\n",
       "    </tr>\n",
       "  </thead>\n",
       "  <tbody>\n",
       "    <tr>\n",
       "      <th>0</th>\n",
       "      <td>57143</td>\n",
       "      <td>ADCK1</td>\n",
       "      <td>NaN</td>\n",
       "      <td>aarF domain containing kinase 1</td>\n",
       "      <td>NaN</td>\n",
       "      <td>Tdark</td>\n",
       "      <td>14.0</td>\n",
       "      <td>NaN</td>\n",
       "      <td>NaN</td>\n",
       "      <td>Kinome subnetwork integration undefined.</td>\n",
       "    </tr>\n",
       "    <tr>\n",
       "      <th>1</th>\n",
       "      <td>90956</td>\n",
       "      <td>ADCK2</td>\n",
       "      <td>ADCK2</td>\n",
       "      <td>aarF domain containing kinase 2</td>\n",
       "      <td>Y</td>\n",
       "      <td>Tbio</td>\n",
       "      <td>NaN</td>\n",
       "      <td>NaN</td>\n",
       "      <td>3.0</td>\n",
       "      <td>NaN</td>\n",
       "    </tr>\n",
       "    <tr>\n",
       "      <th>2</th>\n",
       "      <td>203054</td>\n",
       "      <td>ADCK5</td>\n",
       "      <td>ADCK5</td>\n",
       "      <td>aarF domain containing kinase 5</td>\n",
       "      <td>Y</td>\n",
       "      <td>Tdark</td>\n",
       "      <td>NaN</td>\n",
       "      <td>NaN</td>\n",
       "      <td>3.0</td>\n",
       "      <td>NaN</td>\n",
       "    </tr>\n",
       "    <tr>\n",
       "      <th>3</th>\n",
       "      <td>115701</td>\n",
       "      <td>ALPK2</td>\n",
       "      <td>ALPK2</td>\n",
       "      <td>alpha kinase 2</td>\n",
       "      <td>?</td>\n",
       "      <td>Tdark</td>\n",
       "      <td>NaN</td>\n",
       "      <td>NaN</td>\n",
       "      <td>3.0</td>\n",
       "      <td>NaN</td>\n",
       "    </tr>\n",
       "    <tr>\n",
       "      <th>4</th>\n",
       "      <td>57538</td>\n",
       "      <td>ALPK3</td>\n",
       "      <td>ALPK3</td>\n",
       "      <td>alpha kinase 3</td>\n",
       "      <td>?</td>\n",
       "      <td>Tdark</td>\n",
       "      <td>NaN</td>\n",
       "      <td>NaN</td>\n",
       "      <td>3.0</td>\n",
       "      <td>NaN</td>\n",
       "    </tr>\n",
       "  </tbody>\n",
       "</table>\n",
       "</div>"
      ],
      "text/plain": [
       "   gene_id gene_symbol name_nih                             name atp_binder  \\\n",
       "0    57143       ADCK1      NaN  aarF domain containing kinase 1        NaN   \n",
       "1    90956       ADCK2    ADCK2  aarF domain containing kinase 2          Y   \n",
       "2   203054       ADCK5    ADCK5  aarF domain containing kinase 5          Y   \n",
       "3   115701       ALPK2    ALPK2                   alpha kinase 2          ?   \n",
       "4    57538       ALPK3    ALPK3                   alpha kinase 3          ?   \n",
       "\n",
       "  pharos_designation  pubmed_citation_2017 comment  tier  \\\n",
       "0              Tdark                  14.0     NaN   NaN   \n",
       "1               Tbio                   NaN     NaN   3.0   \n",
       "2              Tdark                   NaN     NaN   3.0   \n",
       "3              Tdark                   NaN     NaN   3.0   \n",
       "4              Tdark                   NaN     NaN   3.0   \n",
       "\n",
       "                               justification  \n",
       "0  Kinome subnetwork integration undefined.   \n",
       "1                                        NaN  \n",
       "2                                        NaN  \n",
       "3                                        NaN  \n",
       "4                                        NaN  "
      ]
     },
     "execution_count": 3,
     "metadata": {},
     "output_type": "execute_result"
    }
   ],
   "source": [
    "# read csv file into a DataFrame\n",
    "kin_classes = pd.read_csv('../data/Table_005_IDG_dark_kinome.csv')\n",
    "kin_classes.head()"
   ]
  },
  {
   "cell_type": "code",
   "execution_count": 4,
   "metadata": {},
   "outputs": [],
   "source": [
    "# left join the pharos_designation into matching kinases (161 vs 162 present)\n",
    "understudied['pharos_designation'] = understudied.set_index('symbol').join(other=kin_classes.set_index('gene_symbol')['pharos_designation'])['pharos_designation'].values"
   ]
  },
  {
   "cell_type": "markdown",
   "metadata": {},
   "source": [
    "## Configure JSON inputs\n",
    "\n",
    "Here we assemble several dictionaries to create the JSON with"
   ]
  },
  {
   "cell_type": "code",
   "execution_count": 5,
   "metadata": {},
   "outputs": [],
   "source": [
    "# kin_list is the list of kinase symbols\n",
    "kin_list = list(map(str, understudied['symbol'].tolist()))\n",
    "\n",
    "# kin_com_names has common names, which are slightly longer than the labels\n",
    "# kin_labels stores this in a dict object mapping {kin_list:kin_common_names}\n",
    "kin_com_names = list(map(str, understudied['kinase_com_name'].tolist()))\n",
    "kin_labels = {k:n for k,n in zip(kin_list, kin_com_names)}\n",
    "\n",
    "# full names and descriptors -- full names aren't currently used in the visualization\n",
    "kin_full_names = list(map(str, understudied['name'].tolist()))\n",
    "kin_descriptors = {k:n for k,n in zip(kin_list, kin_full_names)}\n",
    "\n",
    "sizes = {k:5 for k in kin_list}\n",
    "large_list = ['PKMYT1', 'TLK2', 'BRSK2', 'CDK12', 'CDK13']\n",
    "med_list = ['STK3', 'PIP5K1A', 'NEK7', 'ICK', 'NRBP2']\n",
    "sizes.update({k:60 for k in large_list})\n",
    "sizes.update({k:30 for k in med_list})\n",
    "\n",
    "## add in random classes -- this controls the color!\n",
    "class_name_list = list(understudied['pharos_designation'].unique()) # a string is a list of characters\n",
    "classes = understudied['pharos_designation'].map({x:y for y,x in enumerate(class_name_list)}) # this is a numeric array of size (len(kin_list,))\n",
    "kin_arr = np.array(kin_list) # handy to have the kinases in a numpy array"
   ]
  },
  {
   "cell_type": "markdown",
   "metadata": {},
   "source": [
    "## Build the JSON\n",
    "\n",
    "This combines the outputs of previous steps to create the JSON object"
   ]
  },
  {
   "cell_type": "code",
   "execution_count": 6,
   "metadata": {},
   "outputs": [],
   "source": [
    "# str_out is a JSON-formatted string from the json_out dictionary\n",
    "# the 'replace' steps make the file more human-readable for debugging, etc\n",
    "json_out = {\"name\":\"viz\", \"children\":[{\"name\":class_name_list[c], \"children\":[{\"name\":k, \"label\":kin_labels[k], \"desc\":kin_descriptors[k], \"size\":sizes[k]} for k in kin_arr[classes == c].tolist()]} for c in np.unique(classes).tolist()]}\n",
    "str_out = json.dumps(json_out).replace(\"},\", \"}, \\n\").replace('[{', '[\\n{\\n').replace(']},', ']}\\n,\\n')"
   ]
  },
  {
   "cell_type": "markdown",
   "metadata": {},
   "source": [
    "## Output\n",
    "\n",
    "Write the JSON object to the 'vis.json' file"
   ]
  },
  {
   "cell_type": "code",
   "execution_count": 7,
   "metadata": {},
   "outputs": [],
   "source": [
    "with open('../dist/viz.json', 'w') as f:\n",
    "    f.write(str_out)"
   ]
  }
 ],
 "metadata": {
  "kernelspec": {
   "display_name": "Python [default]",
   "language": "python",
   "name": "python3"
  },
  "language_info": {
   "codemirror_mode": {
    "name": "ipython",
    "version": 3
   },
   "file_extension": ".py",
   "mimetype": "text/x-python",
   "name": "python",
   "nbconvert_exporter": "python",
   "pygments_lexer": "ipython3",
   "version": "3.6.5"
  }
 },
 "nbformat": 4,
 "nbformat_minor": 2
}
