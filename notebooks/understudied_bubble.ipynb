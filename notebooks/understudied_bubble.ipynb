{
 "cells": [
  {
   "cell_type": "code",
   "execution_count": 2,
   "metadata": {},
   "outputs": [],
   "source": [
    "import numpy as np\n",
    "import pandas as pd\n",
    "import json\n",
    "import functools as ft\n",
    "from collections import Counter\n",
    "import itertools as it\n",
    "import matplotlib.pyplot as plt\n",
    "%matplotlib inline"
   ]
  },
  {
   "cell_type": "code",
   "execution_count": 3,
   "metadata": {},
   "outputs": [
    {
     "data": {
      "text/html": [
       "<div>\n",
       "<style scoped>\n",
       "    .dataframe tbody tr th:only-of-type {\n",
       "        vertical-align: middle;\n",
       "    }\n",
       "\n",
       "    .dataframe tbody tr th {\n",
       "        vertical-align: top;\n",
       "    }\n",
       "\n",
       "    .dataframe thead th {\n",
       "        text-align: right;\n",
       "    }\n",
       "</style>\n",
       "<table border=\"1\" class=\"dataframe\">\n",
       "  <thead>\n",
       "    <tr style=\"text-align: right;\">\n",
       "      <th></th>\n",
       "      <th>hgnc_id</th>\n",
       "      <th>symbol</th>\n",
       "      <th>ensembl_gene_id</th>\n",
       "      <th>class</th>\n",
       "      <th>name</th>\n",
       "      <th>uniprot_ids</th>\n",
       "      <th>kinase_com_name</th>\n",
       "    </tr>\n",
       "  </thead>\n",
       "  <tbody>\n",
       "    <tr>\n",
       "      <th>0</th>\n",
       "      <td>HGNC:19038</td>\n",
       "      <td>ADCK1</td>\n",
       "      <td>ENSG00000063761</td>\n",
       "      <td>Dark</td>\n",
       "      <td>aarF domain containing kinase 1</td>\n",
       "      <td>Q86TW2</td>\n",
       "      <td>ADCK1</td>\n",
       "    </tr>\n",
       "    <tr>\n",
       "      <th>1</th>\n",
       "      <td>HGNC:19039</td>\n",
       "      <td>ADCK2</td>\n",
       "      <td>ENSG00000133597</td>\n",
       "      <td>Dark</td>\n",
       "      <td>aarF domain containing kinase 2</td>\n",
       "      <td>Q7Z695</td>\n",
       "      <td>ADCK2</td>\n",
       "    </tr>\n",
       "    <tr>\n",
       "      <th>2</th>\n",
       "      <td>HGNC:21738</td>\n",
       "      <td>ADCK5</td>\n",
       "      <td>ENSG00000173137</td>\n",
       "      <td>Dark</td>\n",
       "      <td>aarF domain containing kinase 5</td>\n",
       "      <td>Q3MIX3</td>\n",
       "      <td>ADCK5</td>\n",
       "    </tr>\n",
       "    <tr>\n",
       "      <th>3</th>\n",
       "      <td>HGNC:20565</td>\n",
       "      <td>ALPK2</td>\n",
       "      <td>ENSG00000198796</td>\n",
       "      <td>Dark</td>\n",
       "      <td>alpha kinase 2</td>\n",
       "      <td>Q86TB3</td>\n",
       "      <td>AlphaK2</td>\n",
       "    </tr>\n",
       "    <tr>\n",
       "      <th>4</th>\n",
       "      <td>HGNC:17574</td>\n",
       "      <td>ALPK3</td>\n",
       "      <td>ENSG00000136383</td>\n",
       "      <td>Dark</td>\n",
       "      <td>alpha kinase 3</td>\n",
       "      <td>Q96L96</td>\n",
       "      <td>AlphaK1</td>\n",
       "    </tr>\n",
       "  </tbody>\n",
       "</table>\n",
       "</div>"
      ],
      "text/plain": [
       "      hgnc_id symbol  ensembl_gene_id class                             name  \\\n",
       "0  HGNC:19038  ADCK1  ENSG00000063761  Dark  aarF domain containing kinase 1   \n",
       "1  HGNC:19039  ADCK2  ENSG00000133597  Dark  aarF domain containing kinase 2   \n",
       "2  HGNC:21738  ADCK5  ENSG00000173137  Dark  aarF domain containing kinase 5   \n",
       "3  HGNC:20565  ALPK2  ENSG00000198796  Dark                   alpha kinase 2   \n",
       "4  HGNC:17574  ALPK3  ENSG00000136383  Dark                   alpha kinase 3   \n",
       "\n",
       "  uniprot_ids kinase_com_name  \n",
       "0      Q86TW2           ADCK1  \n",
       "1      Q7Z695           ADCK2  \n",
       "2      Q3MIX3           ADCK5  \n",
       "3      Q86TB3         AlphaK2  \n",
       "4      Q96L96         AlphaK1  "
      ]
     },
     "execution_count": 3,
     "metadata": {},
     "output_type": "execute_result"
    }
   ],
   "source": [
    "understudied = pd.read_csv('../data/dark_kinases.csv')\n",
    "understudied.head()"
   ]
  },
  {
   "cell_type": "code",
   "execution_count": 30,
   "metadata": {},
   "outputs": [],
   "source": [
    "kin_list = list(map(str, understudied['symbol'].tolist()))\n",
    "kin_com_names = list(map(str, understudied['kinase_com_name'].tolist()))\n",
    "kin_labels = {k:n for k,n in zip(kin_list, kin_com_names)}"
   ]
  },
  {
   "cell_type": "code",
   "execution_count": 31,
   "metadata": {},
   "outputs": [],
   "source": [
    "#desc_cols = list(filter(lambda x: x is not 'class', understudied.columns))\n",
    "kin_full_names = list(map(str, understudied['name'].tolist()))\n",
    "kin_descriptors = {k:n for k,n in zip(kin_list, kin_full_names)}"
   ]
  },
  {
   "cell_type": "code",
   "execution_count": 32,
   "metadata": {},
   "outputs": [],
   "source": [
    "# generate random sizes from 5 to 25\n",
    "sizes = {k:s for k,s in zip(kin_list, map(int, (5+20*np.abs(np.random.randn(len(kin_list)))).tolist()))}"
   ]
  },
  {
   "cell_type": "code",
   "execution_count": 64,
   "metadata": {},
   "outputs": [],
   "source": [
    "json_out = {\"name\":\"viz\", \"children\":[{\"name\":k, \"label\":kin_labels[k], \"desc\":kin_descriptors[k], \"size\":sizes[k]} for k in kin_list]}\n",
    "str_out = json.dumps(json_out).replace(\"},\", \"}, \\n\").replace('[{', '[\\n{\\n').replace(']},', '}\\n,\\n')"
   ]
  },
  {
   "cell_type": "code",
   "execution_count": 65,
   "metadata": {},
   "outputs": [
    {
     "data": {
      "text/plain": [
       "'{\"name\": \"viz\", \"children\": [\\n{\\n\"name\": \"ADCK1\", \"label\": \"ADCK1\", \"desc\": \"aarF domain containing kinase 1\", \"size\": 16}, \\n {\"name\": \"ADCK2\", \"label\": \"ADCK2\", \"desc\": \"aarF domain containing kinase 2\", \"size\": 41}, \\n {\"name\": \"ADCK5\", \"label\": \"ADCK5\", \"desc\": \"aarF domain containing kinase 5\", \"size\": 12}, \\n {\"name\": \"ALPK2\", \"label\": \"AlphaK2\", \"desc\": \"alpha kinase 2\", \"size\": 6}, \\n {\"name\": \"ALPK3\", \"label\": \"AlphaK1\", \"desc\": \"alpha kinase 3\", \"size\": 21}, \\n {\"name\": \"BCKDK\", \"label\": \"BCKDK\", \"desc\": \"branched chain ketoacid dehydrogenase kinase\", \"size\": 30}, \\n {\"name\": \"BRSK1\", \"label\": \"BRSK1\", \"desc\": \"BR serine/threonine kinase 1\", \"size\": 6}, \\n {\"name\": \"BRSK2\", \"label\": \"BRSK2\", \"desc\": \"BR serine/threonine kinase 2\", \"size\": 20}, \\n {\"name\": \"CAMK1D\", \"label\": \"CaMK1d\", \"desc\": \"calcium/calmodulin dependent protein kinase ID\", \"size\": 21}, \\n {\"name\": \"CAMK1G\", \"label\": \"CaMK1g\", \"desc\": \"calcium/calmodulin dependent protein kinase IG\", \"size\": 33}, \\n {\"name\": \"CAMKK1\", \"label\": \"CaMKK1\", \"desc\": \"calcium/calmodulin dependent protein kinase kinase 1\", \"size\": 19}, \\n {\"name\": \"CAMKK2\", \"label\": \"CaMKK2\", \"desc\": \"calcium/calmodulin dependent protein kinase kinase 2\", \"size\": 17}, \\n {\"name\": \"CAMKV\", \"label\": \"VACAMKL\", \"desc\": \"CaM kinase like vesicle associated\", \"size\": 12}, \\n {\"name\": \"CDC42BPA\", \"label\": \"MRCKa\", \"desc\": \"CDC42 binding protein kinase alpha\", \"size\": 25}, \\n {\"name\": \"CDC42BPB\", \"label\": \"MRCKb\", \"desc\": \"CDC42 binding protein kinase beta\", \"size\": 29}, \\n {\"name\": \"CDC42BPG\", \"label\": \"DMPK2\", \"desc\": \"CDC42 binding protein kinase gamma\", \"size\": 11}, \\n {\"name\": \"CDK10\", \"label\": \"CDK10\", \"desc\": \"cyclin dependent kinase 10\", \"size\": 7}, \\n {\"name\": \"CDK11A\", \"label\": \"PITSLRE\", \"desc\": \"cyclin dependent kinase 11A\", \"size\": 9}, \\n {\"name\": \"CDK11B\", \"label\": \"nan\", \"desc\": \"cyclin dependent kinase 11B\", \"size\": 27}, \\n {\"name\": \"CDK12\", \"label\": \"CRK7\", \"desc\": \"cyclin dependent kinase 12\", \"size\": 28}, \\n {\"name\": \"CDK13\", \"label\": \"CHED\", \"desc\": \"cyclin dependent kinase 13\", \"size\": 20}, \\n {\"name\": \"CDK14\", \"label\": \"PFTAIRE1\", \"desc\": \"cyclin dependent kinase 14\", \"size\": 21}, \\n {\"name\": \"CDK15\", \"label\": \"PFTAIRE2\", \"desc\": \"cyclin dependent kinase 15\", \"size\": 32}, \\n {\"name\": \"CDK16\", \"label\": \"PCTAIRE1\", \"desc\": \"cyclin dependent kinase 16\", \"size\": 37}, \\n {\"name\": \"CDK17\", \"label\": \"PCTAIRE2\", \"desc\": \"cyclin dependent kinase 17\", \"size\": 27}, \\n {\"name\": \"CDK18\", \"label\": \"PCTAIRE3\", \"desc\": \"cyclin dependent kinase 18\", \"size\": 29}, \\n {\"name\": \"CDK19\", \"label\": \"CDK11\", \"desc\": \"cyclin dependent kinase 19\", \"size\": 27}, \\n {\"name\": \"CDK20\", \"label\": \"CCRK\", \"desc\": \"cyclin dependent kinase 20\", \"size\": 9}, \\n {\"name\": \"CDKL1\", \"label\": \"CDKL1\", \"desc\": \"cyclin dependent kinase like 1\", \"size\": 25}, \\n {\"name\": \"CDKL2\", \"label\": \"CDKL2\", \"desc\": \"cyclin dependent kinase like 2\", \"size\": 9}, \\n {\"name\": \"CDKL3\", \"label\": \"CDKL3\", \"desc\": \"cyclin dependent kinase like 3\", \"size\": 16}, \\n {\"name\": \"CDKL4\", \"label\": \"CDKL4\", \"desc\": \"cyclin dependent kinase like 4\", \"size\": 24}, \\n {\"name\": \"CDKL5\", \"label\": \"CDKL5\", \"desc\": \"cyclin dependent kinase like 5\", \"size\": 17}, \\n {\"name\": \"CLK3\", \"label\": \"CLK3\", \"desc\": \"CDC like kinase 3\", \"size\": 13}, \\n {\"name\": \"CLK4\", \"label\": \"CLK4\", \"desc\": \"CDC like kinase 4\", \"size\": 9}, \\n {\"name\": \"COQ8A\", \"label\": \"ADCK3\", \"desc\": \"coenzyme Q8A\", \"size\": 9}, \\n {\"name\": \"COQ8B\", \"label\": \"ADCK4\", \"desc\": \"coenzyme Q8B\", \"size\": 24}, \\n {\"name\": \"CSNK1A1L\", \"label\": \"CK1a2\", \"desc\": \"casein kinase 1 alpha 1 like\", \"size\": 27}, \\n {\"name\": \"CSNK1G1\", \"label\": \"CK1g1\", \"desc\": \"casein kinase 1 gamma 1\", \"size\": 27}, \\n {\"name\": \"CSNK1G2\", \"label\": \"CK1g2\", \"desc\": \"casein kinase 1 gamma 2\", \"size\": 9}, \\n {\"name\": \"CSNK1G3\", \"label\": \"CK1g3\", \"desc\": \"casein kinase 1 gamma 3\", \"size\": 8}, \\n {\"name\": \"CSNK2A2\", \"label\": \"CK2a2\", \"desc\": \"casein kinase 2 alpha 2\", \"size\": 36}, \\n {\"name\": \"CSNK2A3\", \"label\": \"nan\", \"desc\": \"casein kinase 2 alpha 3\", \"size\": 25}, \\n {\"name\": \"DCLK3\", \"label\": \"DCLK3\", \"desc\": \"doublecortin like kinase 3\", \"size\": 18}, \\n {\"name\": \"DSTYK\", \"label\": \"SgK496\", \"desc\": \"dual serine/threonine and tyrosine protein kinase\", \"size\": 20}, \\n {\"name\": \"DYRK1B\", \"label\": \"DYRK1B\", \"desc\": \"dual specificity tyrosine phosphorylation regulated kinase 1B\", \"size\": 6}, \\n {\"name\": \"DYRK2\", \"label\": \"DYRK2\", \"desc\": \"dual specificity tyrosine phosphorylation regulated kinase 2\", \"size\": 14}, \\n {\"name\": \"DYRK3\", \"label\": \"DYRK3\", \"desc\": \"dual specificity tyrosine phosphorylation regulated kinase 3\", \"size\": 18}, \\n {\"name\": \"DYRK4\", \"label\": \"DYRK4\", \"desc\": \"dual specificity tyrosine phosphorylation regulated kinase 4\", \"size\": 17}, \\n {\"name\": \"EEF2K\", \"label\": \"eEF2K\", \"desc\": \"eukaryotic elongation factor 2 kinase\", \"size\": 36}, \\n {\"name\": \"ERN2\", \"label\": \"IRE2\", \"desc\": \"endoplasmic reticulum to nucleus signaling 2\", \"size\": 37}, \\n {\"name\": \"HIPK1\", \"label\": \"HIPK1\", \"desc\": \"homeodomain interacting protein kinase 1\", \"size\": 27}, \\n {\"name\": \"HIPK3\", \"label\": \"HIPK3\", \"desc\": \"homeodomain interacting protein kinase 3\", \"size\": 7}, \\n {\"name\": \"HIPK4\", \"label\": \"HIPK4\", \"desc\": \"homeodomain interacting protein kinase 4\", \"size\": 25}, \\n {\"name\": \"ICK\", \"label\": \"ICK\", \"desc\": \"intestinal cell kinase\", \"size\": 25}, \\n {\"name\": \"LMTK2\", \"label\": \"LMR2\", \"desc\": \"lemur tyrosine kinase 2\", \"size\": 6}, \\n {\"name\": \"LMTK3\", \"label\": \"LMR3\", \"desc\": \"lemur tyrosine kinase 3\", \"size\": 15}, \\n {\"name\": \"LRRK1\", \"label\": \"LRRK1\", \"desc\": \"leucine rich repeat kinase 1\", \"size\": 16}, \\n {\"name\": \"LTK\", \"label\": \"LTK\", \"desc\": \"leukocyte receptor tyrosine kinase\", \"size\": 29}, \\n {\"name\": \"MAP3K10\", \"label\": \"MLK2\", \"desc\": \"mitogen-activated protein kinase kinase kinase 10\", \"size\": 37}, \\n {\"name\": \"MAP3K14\", \"label\": \"NIK\", \"desc\": \"mitogen-activated protein kinase kinase kinase 14\", \"size\": 22}, \\n {\"name\": \"MAP3K15\", \"label\": \"MAP3K7\", \"desc\": \"mitogen-activated protein kinase kinase kinase 15\", \"size\": 9}, \\n {\"name\": \"MAP3K21\", \"label\": \"MLK4\", \"desc\": \"mitogen-activated protein kinase kinase kinase 21\", \"size\": 46}, \\n {\"name\": \"MAPK4\", \"label\": \"Erk4\", \"desc\": \"mitogen-activated protein kinase 4\", \"size\": 23}, \\n {\"name\": \"MAPK15\", \"label\": \"Erk7\", \"desc\": \"mitogen-activated protein kinase 15\", \"size\": 22}, \\n {\"name\": \"MARK1\", \"label\": \"MARK1\", \"desc\": \"microtubule affinity regulating kinase 1\", \"size\": 14}, \\n {\"name\": \"MARK3\", \"label\": \"MARK3\", \"desc\": \"microtubule affinity regulating kinase 3\", \"size\": 5}, \\n {\"name\": \"MARK4\", \"label\": \"MARK4\", \"desc\": \"microtubule affinity regulating kinase 4\", \"size\": 5}, \\n {\"name\": \"MAST2\", \"label\": \"MAST2\", \"desc\": \"microtubule associated serine/threonine kinase 2\", \"size\": 46}, \\n {\"name\": \"MAST3\", \"label\": \"MAST3\", \"desc\": \"microtubule associated serine/threonine kinase 3\", \"size\": 44}, \\n {\"name\": \"MAST4\", \"label\": \"MAST4\", \"desc\": \"microtubule associated serine/threonine kinase family member 4\", \"size\": 16}, \\n {\"name\": \"MKNK1\", \"label\": \"MNK1\", \"desc\": \"MAP kinase interacting serine/threonine kinase 1\", \"size\": 19}, \\n {\"name\": \"MKNK2\", \"label\": \"MNK2\", \"desc\": \"MAP kinase interacting serine/threonine kinase 2\", \"size\": 9}, \\n {\"name\": \"NEK1\", \"label\": \"NEK1\", \"desc\": \"NIMA related kinase 1\", \"size\": 12}, \\n {\"name\": \"NEK3\", \"label\": \"NEK3\", \"desc\": \"NIMA related kinase 3\", \"size\": 18}, \\n {\"name\": \"NEK4\", \"label\": \"NEK4\", \"desc\": \"NIMA related kinase 4\", \"size\": 23}, \\n {\"name\": \"NEK5\", \"label\": \"NEK5\", \"desc\": \"NIMA related kinase 5\", \"size\": 15}, \\n {\"name\": \"NEK6\", \"label\": \"NEK6\", \"desc\": \"NIMA related kinase 6\", \"size\": 8}, \\n {\"name\": \"NEK7\", \"label\": \"NEK7\", \"desc\": \"NIMA related kinase 7\", \"size\": 23}, \\n {\"name\": \"NEK8\", \"label\": \"NEK8\", \"desc\": \"NIMA related kinase 8\", \"size\": 27}, \\n {\"name\": \"NEK9\", \"label\": \"NEK9\", \"desc\": \"NIMA related kinase 9\", \"size\": 32}, \\n {\"name\": \"NEK10\", \"label\": \"NEK10\", \"desc\": \"NIMA related kinase 10\", \"size\": 10}, \\n {\"name\": \"NEK11\", \"label\": \"NEK11\", \"desc\": \"NIMA related kinase 11\", \"size\": 9}, \\n {\"name\": \"NIM1K\", \"label\": \"NIM1\", \"desc\": \"NIM1 serine/threonine protein kinase\", \"size\": 5}, \\n {\"name\": \"NRBP2\", \"label\": \"NRBP2\", \"desc\": \"nuclear receptor binding protein 2\", \"size\": 21}, \\n {\"name\": \"NRK\", \"label\": \"NRK\", \"desc\": \"Nik related kinase\", \"size\": 11}, \\n {\"name\": \"NUAK2\", \"label\": \"NuaK2\", \"desc\": \"NUAK family kinase 2\", \"size\": 12}, \\n {\"name\": \"OBSCN\", \"label\": \"Obscn\", \"desc\": \"obscurin, cytoskeletal calmodulin and titin-interacting RhoGEF\", \"size\": 29}, \\n {\"name\": \"PAK3\", \"label\": \"PAK3\", \"desc\": \"p21 (RAC1) activated kinase 3\", \"size\": 23}, \\n {\"name\": \"PAK5\", \"label\": \"PAK5\", \"desc\": \"p21 (RAC1) activated kinase 5\", \"size\": 51}, \\n {\"name\": \"PAK6\", \"label\": \"PAK6\", \"desc\": \"p21 (RAC1) activated kinase 6\", \"size\": 6}, \\n {\"name\": \"PAN3\", \"label\": \"nan\", \"desc\": \"PAN3 poly(A) specific ribonuclease subunit\", \"size\": 5}, \\n {\"name\": \"PDIK1L\", \"label\": \"CLIK1L\", \"desc\": \"PDLIM1 interacting kinase 1 like\", \"size\": 14}, \\n {\"name\": \"PHKG1\", \"label\": \"PHKg1\", \"desc\": \"phosphorylase kinase catalytic subunit gamma 1\", \"size\": 15}, \\n {\"name\": \"PHKG2\", \"label\": \"PHKg2\", \"desc\": \"phosphorylase kinase catalytic subunit gamma 2\", \"size\": 14}, \\n {\"name\": \"PI4KA\", \"label\": \"nan\", \"desc\": \"phosphatidylinositol 4-kinase alpha\", \"size\": 6}, \\n {\"name\": \"PIK3C2B\", \"label\": \"nan\", \"desc\": \"phosphatidylinositol-4-phosphate 3-kinase catalytic subunit type 2 beta\", \"size\": 40}, \\n {\"name\": \"PIK3C2G\", \"label\": \"nan\", \"desc\": \"phosphatidylinositol-4-phosphate 3-kinase catalytic subunit type 2 gamma\", \"size\": 15}, \\n {\"name\": \"PIP4K2C\", \"label\": \"nan\", \"desc\": \"phosphatidylinositol-5-phosphate 4-kinase type 2 gamma\", \"size\": 5}, \\n {\"name\": \"PIP5K1A\", \"label\": \"nan\", \"desc\": \"phosphatidylinositol-4-phosphate 5-kinase type 1 alpha\", \"size\": 27}, \\n {\"name\": \"PIP5K1B\", \"label\": \"nan\", \"desc\": \"phosphatidylinositol-4-phosphate 5-kinase type 1 beta\", \"size\": 36}, \\n {\"name\": \"PIP5K1C\", \"label\": \"nan\", \"desc\": \"phosphatidylinositol-4-phosphate 5-kinase type 1 gamma\", \"size\": 35}, \\n {\"name\": \"PKMYT1\", \"label\": \"MYT1\", \"desc\": \"protein kinase, membrane associated tyrosine/threonine 1\", \"size\": 11}, \\n {\"name\": \"PKN3\", \"label\": \"PKN3\", \"desc\": \"protein kinase N3\", \"size\": 33}, \\n {\"name\": \"PNCK\", \"label\": \"CaMK1b\", \"desc\": \"pregnancy up-regulated nonubiquitous CaM kinase\", \"size\": 49}, \\n {\"name\": \"POMK\", \"label\": \"SgK196\", \"desc\": \"protein-O-mannose kinase\", \"size\": 9}, \\n {\"name\": \"PRAG1\", \"label\": \"SgK223\", \"desc\": \"PEAK1 related, kinase-activating pseudokinase 1\", \"size\": 7}, \\n {\"name\": \"PRKACB\", \"label\": \"PKACb\", \"desc\": \"protein kinase cAMP-activated catalytic subunit beta\", \"size\": 24}, \\n {\"name\": \"PRKACG\", \"label\": \"PKACg\", \"desc\": \"protein kinase cAMP-activated catalytic subunit gamma\", \"size\": 14}, \\n {\"name\": \"PRKCQ\", \"label\": \"PKCt\", \"desc\": \"protein kinase C theta\", \"size\": 39}, \\n {\"name\": \"PRPF4B\", \"label\": \"PRP4\", \"desc\": \"pre-mRNA processing factor 4B\", \"size\": 26}, \\n {\"name\": \"PSKH1\", \"label\": \"PSKH1\", \"desc\": \"protein serine kinase H1\", \"size\": 15}, \\n {\"name\": \"PSKH2\", \"label\": \"PSKH2\", \"desc\": \"protein serine kinase H2\", \"size\": 28}, \\n {\"name\": \"PXK\", \"label\": \"Slob\", \"desc\": \"PX domain containing serine/threonine kinase like\", \"size\": 10}, \\n {\"name\": \"RIOK1\", \"label\": \"RIOK1\", \"desc\": \"RIO kinase 1\", \"size\": 16}, \\n {\"name\": \"RIOK2\", \"label\": \"RIOK2\", \"desc\": \"RIO kinase 2\", \"size\": 29}, \\n {\"name\": \"RIOK3\", \"label\": \"RIOK3\", \"desc\": \"RIO kinase 3\", \"size\": 13}, \\n {\"name\": \"RNASEL\", \"label\": \"RNAseL\", \"desc\": \"ribonuclease L\", \"size\": 21}, \\n {\"name\": \"RPS6KC1\", \"label\": \"RSKL1\", \"desc\": \"ribosomal protein S6 kinase C1\", \"size\": 10}, \\n {\"name\": \"RPS6KL1\", \"label\": \"RSKL2\", \"desc\": \"ribosomal protein S6 kinase like 1\", \"size\": 15}, \\n {\"name\": \"SBK1\", \"label\": \"SBK\", \"desc\": \"SH3 domain binding kinase 1\", \"size\": 28}, \\n {\"name\": \"SBK2\", \"label\": \"SgK069\", \"desc\": \"SH3 domain binding kinase family member 2\", \"size\": 27}, \\n {\"name\": \"SBK3\", \"label\": \"SgK110\", \"desc\": \"SH3 domain binding kinase family member 3\", \"size\": 9}, \\n {\"name\": \"SCYL1\", \"label\": \"SCYL1\", \"desc\": \"SCY1 like pseudokinase 1\", \"size\": 18}, \\n {\"name\": \"SCYL2\", \"label\": \"SCYL2\", \"desc\": \"SCY1 like pseudokinase 2\", \"size\": 17}, \\n {\"name\": \"SCYL3\", \"label\": \"SCYL3\", \"desc\": \"SCY1 like pseudokinase 3\", \"size\": 30}, \\n {\"name\": \"SRPK3\", \"label\": \"MSSK1\", \"desc\": \"SRSF protein kinase 3\", \"size\": 25}, \\n {\"name\": \"STK3\", \"label\": \"MST2\", \"desc\": \"serine/threonine kinase 3\", \"size\": 20}, \\n {\"name\": \"STK17A\", \"label\": \"DRAK1\", \"desc\": \"serine/threonine kinase 17a\", \"size\": 29}, \\n {\"name\": \"STK17B\", \"label\": \"DRAK2\", \"desc\": \"serine/threonine kinase 17b\", \"size\": 13}, \\n {\"name\": \"STK19\", \"label\": \"G11\", \"desc\": \"serine/threonine kinase 19\", \"size\": 11}, \\n {\"name\": \"STK31\", \"label\": \"SgK396\", \"desc\": \"serine/threonine kinase 31\", \"size\": 14}, \\n {\"name\": \"STK32A\", \"label\": \"YANK1\", \"desc\": \"serine/threonine kinase 32A\", \"size\": 41}, \\n {\"name\": \"STK32B\", \"label\": \"YANK2\", \"desc\": \"serine/threonine kinase 32B\", \"size\": 13}, \\n {\"name\": \"STK32C\", \"label\": \"YANK3\", \"desc\": \"serine/threonine kinase 32C\", \"size\": 49}, \\n {\"name\": \"STK33\", \"label\": \"STK33\", \"desc\": \"serine/threonine kinase 33\", \"size\": 19}, \\n {\"name\": \"STK36\", \"label\": \"Fused\", \"desc\": \"serine/threonine kinase 36\", \"size\": 14}, \\n {\"name\": \"STK38L\", \"label\": \"NDR2\", \"desc\": \"serine/threonine kinase 38 like\", \"size\": 52}, \\n {\"name\": \"STK40\", \"label\": \"SgK495\", \"desc\": \"serine/threonine kinase 40\", \"size\": 8}, \\n {\"name\": \"STKLD1\", \"label\": \"SgK071\", \"desc\": \"serine/threonine kinase like domain containing 1\", \"size\": 22}, \\n {\"name\": \"TAOK1\", \"label\": \"TAO1\", \"desc\": \"TAO kinase 1\", \"size\": 16}, \\n {\"name\": \"TAOK2\", \"label\": \"TAO2\", \"desc\": \"TAO kinase 2\", \"size\": 28}, \\n {\"name\": \"TBCK\", \"label\": \"TBCK\", \"desc\": \"TBC1 domain containing kinase\", \"size\": 10}, \\n {\"name\": \"TESK1\", \"label\": \"TESK1\", \"desc\": \"testis associated actin remodelling kinase 1\", \"size\": 12}, \\n {\"name\": \"TESK2\", \"label\": \"TESK2\", \"desc\": \"testis associated actin remodelling kinase 2\", \"size\": 22}, \\n {\"name\": \"TLK1\", \"label\": \"TLK1\", \"desc\": \"tousled like kinase 1\", \"size\": 18}, \\n {\"name\": \"TLK2\", \"label\": \"TLK2\", \"desc\": \"tousled like kinase 2\", \"size\": 8}, \\n {\"name\": \"TP53RK\", \"label\": \"PRPK\", \"desc\": \"TP53 regulating kinase\", \"size\": 13}, \\n {\"name\": \"TSSK1B\", \"label\": \"TSSK1\", \"desc\": \"testis specific serine kinase 1B\", \"size\": 11}, \\n {\"name\": \"TSSK2\", \"label\": \"TSSK2\", \"desc\": \"testis specific serine kinase 2\", \"size\": 5}, \\n {\"name\": \"TSSK3\", \"label\": \"TSSK3\", \"desc\": \"testis specific serine kinase 3\", \"size\": 21}, \\n {\"name\": \"TSSK4\", \"label\": \"TSSK4\", \"desc\": \"testis specific serine kinase 4\", \"size\": 20}, \\n {\"name\": \"TSSK6\", \"label\": \"SSTK\", \"desc\": \"testis specific serine kinase 6\", \"size\": 7}, \\n {\"name\": \"TTBK1\", \"label\": \"TTBK1\", \"desc\": \"tau tubulin kinase 1\", \"size\": 17}, \\n {\"name\": \"TTBK2\", \"label\": \"TTBK2\", \"desc\": \"tau tubulin kinase 2\", \"size\": 10}, \\n {\"name\": \"ULK4\", \"label\": \"ULK4\", \"desc\": \"unc-51 like kinase 4\", \"size\": 14}, \\n {\"name\": \"VRK2\", \"label\": \"VRK2\", \"desc\": \"vaccinia related kinase 2\", \"size\": 36}, \\n {\"name\": \"VRK3\", \"label\": \"VRK3\", \"desc\": \"vaccinia related kinase 3\", \"size\": 15}, \\n {\"name\": \"WEE2\", \"label\": \"Wee1B\", \"desc\": \"WEE1 homolog 2\", \"size\": 15}, \\n {\"name\": \"WNK2\", \"label\": \"Wnk2\", \"desc\": \"WNK lysine deficient protein kinase 2\", \"size\": 34}, \\n {\"name\": \"WNK3\", \"label\": \"Wnk3\", \"desc\": \"WNK lysine deficient protein kinase 3\", \"size\": 10}]}'"
      ]
     },
     "execution_count": 65,
     "metadata": {},
     "output_type": "execute_result"
    }
   ],
   "source": [
    "str_out"
   ]
  },
  {
   "cell_type": "code",
   "execution_count": 66,
   "metadata": {},
   "outputs": [],
   "source": [
    "with open('../dist/viz.json', 'w') as f:\n",
    "    f.write(str_out)"
   ]
  },
  {
   "cell_type": "code",
   "execution_count": 46,
   "metadata": {},
   "outputs": [],
   "source": [
    "classes = np.random.randint(size=len(kin_list), low=0, high=10)\n",
    "kin_arr = np.array(kin_list)"
   ]
  },
  {
   "cell_type": "code",
   "execution_count": 47,
   "metadata": {},
   "outputs": [
    {
     "data": {
      "text/plain": [
       "array(['ALPK2', 'BRSK2', 'CDC42BPA', 'CLK3', 'CSNK2A3', 'DCLK3',\n",
       "       'MAP3K10', 'PNCK', 'PXK', 'STK19', 'TLK2', 'TSSK1B'], dtype='<U8')"
      ]
     },
     "execution_count": 47,
     "metadata": {},
     "output_type": "execute_result"
    }
   ],
   "source": [
    "kin_arr[classes == 5]"
   ]
  },
  {
   "cell_type": "code",
   "execution_count": 51,
   "metadata": {},
   "outputs": [
    {
     "data": {
      "text/plain": [
       "[0, 1, 2, 3, 4, 5, 6, 7, 8, 9]"
      ]
     },
     "execution_count": 51,
     "metadata": {},
     "output_type": "execute_result"
    }
   ],
   "source": [
    "np.unique(classes).tolist()"
   ]
  },
  {
   "cell_type": "code",
   "execution_count": 74,
   "metadata": {},
   "outputs": [],
   "source": [
    "## add in random classes\n",
    "classes = np.random.randint(size=len(kin_list), low=0, high=10)\n",
    "kin_arr = np.array(kin_list)\n",
    "\n",
    "json_out = {\"name\":\"viz\", \"children\":[{\"name\":'abcdefghijkl'[c], \"children\":[{\"name\":k, \"label\":kin_labels[k], \"desc\":kin_descriptors[k], \"size\":sizes[k]} for k in kin_arr[classes == c].tolist()]} for c in np.unique(classes).tolist()]}\n",
    "str_out = json.dumps(json_out).replace(\"},\", \"}, \\n\").replace('[{', '[\\n{\\n').replace(']},', ']}\\n,\\n')"
   ]
  },
  {
   "cell_type": "code",
   "execution_count": 75,
   "metadata": {},
   "outputs": [],
   "source": [
    "with open('../dist/viz.json', 'w') as f:\n",
    "    f.write(str_out)"
   ]
  }
 ],
 "metadata": {
  "kernelspec": {
   "display_name": "Python [default]",
   "language": "python",
   "name": "python3"
  },
  "language_info": {
   "codemirror_mode": {
    "name": "ipython",
    "version": 3
   },
   "file_extension": ".py",
   "mimetype": "text/x-python",
   "name": "python",
   "nbconvert_exporter": "python",
   "pygments_lexer": "ipython3",
   "version": "3.6.5"
  }
 },
 "nbformat": 4,
 "nbformat_minor": 2
}
